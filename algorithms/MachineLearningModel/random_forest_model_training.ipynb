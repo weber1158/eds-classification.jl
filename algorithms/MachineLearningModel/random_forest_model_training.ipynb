{
 "cells": [
  {
   "cell_type": "markdown",
   "id": "74a1607e-afc8-4bd9-a0db-60ac7900762b",
   "metadata": {},
   "source": [
    "# Programming a random forest model to identify minerals from SEM-EDS data\n",
    "(C) 2025 Austin M. Weber"
   ]
  },
  {
   "cell_type": "markdown",
   "id": "4cb7d1fd-52be-43f4-b19d-fdcd59d28417",
   "metadata": {},
   "source": [
    "#### Load dependencies\n",
    "If one or more of these dependencies are not installed, open the Julia REPL and execute the following:\n",
    "\n",
    "```julia\n",
    "using Pkg\n",
    "Pkg.add(\"CSV\")\n",
    "Pkg.add(\"DataFrames\")\n",
    "Pkg.add(\"DecisionTree\")\n",
    "Pkg.add(\"MLJ\")\n",
    "Pkg.add(\"CategoricalArrays\")\n",
    "Pkg.add(\"Statistics\")\n",
    "```\n",
    "\n",
    "Note that you will only need to use `Pkg.add()` for the packages that are not already installed."
   ]
  },
  {
   "cell_type": "code",
   "execution_count": 1,
   "id": "651bac90-1800-435b-b5e2-3424652f40e2",
   "metadata": {},
   "outputs": [],
   "source": [
    "# LOAD DEPENDENCIES\n",
    "using CSV, DataFrames, DecisionTree, MLJ, CategoricalArrays, Statistics"
   ]
  },
  {
   "cell_type": "markdown",
   "id": "59574930-81f2-4ac3-99f9-e8a436b42b57",
   "metadata": {},
   "source": [
    "#### Import training data\n",
    "The file `model_training_data_balanced.csv` contains 1098 rows of mineral observations. The first column `:Mineral` is the target variable, and the remaining 23 columns are the features (in this case, different elemental net intensity ratios). The dataset has been balanced using the synthetic minority oversampling technique so that each target class has an equal number of observations.\n",
    "\n",
    "**Note:** In order for this to work, `model_training_data_balanced.csv` must be a file in the current folder."
   ]
  },
  {
   "cell_type": "code",
   "execution_count": 2,
   "id": "11bb494c-a0b1-420c-89dc-d53287b55b46",
   "metadata": {},
   "outputs": [],
   "source": [
    "# IMPORT TRAINING DATA\n",
    "data = CSV.read(\"model_training_data_balanced.csv\",DataFrame);\n",
    "first(data,5)"
   ]
  },
  {
   "cell_type": "markdown",
   "id": "c9686237-013a-44da-a006-f1308791e0f2",
   "metadata": {},
   "source": [
    "#### Remove rows with missing data"
   ]
  },
  {
   "cell_type": "code",
   "execution_count": 3,
   "id": "ef2d0419-747c-4645-b79e-0578966368a2",
   "metadata": {},
   "outputs": [],
   "source": [
    "# REMOVE ROWS WITH MISSING DATA\n",
    "data_no_missing = dropmissing!(data);"
   ]
  },
  {
   "cell_type": "markdown",
   "id": "96a6ff57-7722-44d6-b192-bc1d52b47ca9",
   "metadata": {},
   "source": [
    "#### Extract target labels"
   ]
  },
  {
   "cell_type": "code",
   "execution_count": 4,
   "id": "95451480-bc23-41c4-81c2-2bf3bda093fa",
   "metadata": {},
   "outputs": [],
   "source": [
    "# EXTRACT TARGET LABELS\n",
    "labels = Int.(CategoricalArray(data_no_missing.Mineral).refs);\n",
    "true_classes = data_no_missing[:,1];"
   ]
  },
  {
   "cell_type": "markdown",
   "id": "0fdc7407-9662-44ee-ad6b-829b3b126b5d",
   "metadata": {},
   "source": [
    "#### Extract features"
   ]
  },
  {
   "cell_type": "code",
   "execution_count": 5,
   "id": "881dd2e9-11e1-41a9-b248-0d6045d472c6",
   "metadata": {},
   "outputs": [],
   "source": [
    "# EXTRACT FEATURES\n",
    "features = Matrix{Float64}(select(data_no_missing, Not(:Mineral)));\n",
    "training_data = data_no_missing[:,2:end];"
   ]
  },
  {
   "cell_type": "markdown",
   "id": "18874922-7073-45e5-a205-aaba5cea358f",
   "metadata": {},
   "source": [
    "#### Partition the data into 70/30 training/test datasets using a stratified split"
   ]
  },
  {
   "cell_type": "code",
   "execution_count": 6,
   "id": "b57bce58-3b13-4ff1-bd93-3fb459d18498",
   "metadata": {},
   "outputs": [],
   "source": [
    "# PARTITION THE DATA INTO 70/30 TRAINING/TEST DATASETS USING A STRATIFIED SPLIT\n",
    "(Xtrain1, Xtest1), (ytrain1, ytest1) = partition((training_data, true_classes), 0.7, rng=10, multi=true);"
   ]
  },
  {
   "cell_type": "markdown",
   "id": "2066db90-70a3-4d09-b619-3068097fc1e3",
   "metadata": {},
   "source": [
    "#### Convert into data types that `build_forest` can interpret (that is, from `DataFrame` to `Float64` and `Int`)"
   ]
  },
  {
   "cell_type": "code",
   "execution_count": 7,
   "id": "49227c5a-c2dc-47b2-9bb3-b21a51dd28c0",
   "metadata": {},
   "outputs": [],
   "source": [
    "# CONVERT INTO DATA TYPES THAT build_forest CAN INTERPRET (that is, from DataFrame to Float64 and Int)\n",
    "Xtrain1_features = Matrix{Float64}(Xtrain1);\n",
    "Xtest1_features = Matrix{Float64}(Xtest1);\n",
    "\n",
    "ytrain1_targets = Int.(CategoricalArray(ytrain1).refs);\n",
    "ytest1_targets = Int.(CategoricalArray(ytest1).refs);"
   ]
  },
  {
   "cell_type": "markdown",
   "id": "b93bb299-6bc3-46e7-a2c7-d981ff96dadd",
   "metadata": {},
   "source": [
    "#### Construct machine learning model"
   ]
  },
  {
   "cell_type": "code",
   "execution_count": 8,
   "id": "7e246596-dba1-427c-bae3-76a67b4d5627",
   "metadata": {},
   "outputs": [
    {
     "data": {
      "text/plain": [
       "Ensemble of Decision Trees\n",
       "Trees:      10\n",
       "Avg Leaves: 23.5\n",
       "Avg Depth:  5.8"
      ]
     },
     "execution_count": 8,
     "metadata": {},
     "output_type": "execute_result"
    }
   ],
   "source": [
    "# CONSTRUCT MACHINE LEARNING MODEL\n",
    "model = build_forest(ytrain1_targets, Xtrain1_features)"
   ]
  },
  {
   "cell_type": "markdown",
   "id": "f3fc9901-d114-4d6a-87d7-9cfcf50078f0",
   "metadata": {},
   "source": [
    "#### Apply random forest model to the training dataset (`Xtrain1_features`) and the test dataset (`Xtest1_features`)"
   ]
  },
  {
   "cell_type": "code",
   "execution_count": 9,
   "id": "b6afa595-ede3-400e-bedc-619ea9c0c0fa",
   "metadata": {},
   "outputs": [],
   "source": [
    "# APPLY RANDOM FOREST MODEL TO THE TRAINING DATASET (Xtrain1_features) AND THE TEST DATASET (Xtest1_features)\n",
    "validation_predictions = apply_forest(model, Xtrain1_features);\n",
    "test_predictions = apply_forest(model, Xtest1_features);"
   ]
  },
  {
   "cell_type": "markdown",
   "id": "b3337619-c0a7-4a73-baa8-6a1a45e02865",
   "metadata": {},
   "source": [
    "#### Evaluate the accuracy of the model by comparing the predictions to the true labels (i.e., targets)"
   ]
  },
  {
   "cell_type": "code",
   "execution_count": 10,
   "id": "e676b5bd-f558-40c7-9af8-47d5b5a99332",
   "metadata": {},
   "outputs": [
    {
     "name": "stdout",
     "output_type": "stream",
     "text": [
      "Validation accuracy: 99.727%\n",
      "\n",
      "Test accuracy: 98.726%\n",
      "\n"
     ]
    }
   ],
   "source": [
    "# EVALUATE THE ACCURACY OF THE MODEL BY COMPARING THE PREDICTIONS TO THE TRUE LABELS (i.e. targets)\n",
    "validation_accuracy = mean(validation_predictions .== ytrain1_targets)\n",
    "test_accuracy = mean(test_predictions .== ytest1_targets)\n",
    "println(\"Validation accuracy: \", round(validation_accuracy * 100, digits=3), \"%\\n\")\n",
    "println(\"Test accuracy: \", round(test_accuracy * 100, digits=3), \"%\\n\")"
   ]
  },
  {
   "cell_type": "markdown",
   "id": "08a9a863-881f-49d0-a569-215c0cc7c8ef",
   "metadata": {},
   "source": [
    "#### Visualize the test confusion matrix"
   ]
  },
  {
   "cell_type": "code",
   "execution_count": 11,
   "id": "1223b976-9ae1-4dcd-8237-43eae8031664",
   "metadata": {},
   "outputs": [
    {
     "data": {
      "text/plain": [
       "18×18 Matrix{Int64}:\n",
       " 20  0   0   0   0   0   0   0   0   0   0   0   0   0   0   0   0   0\n",
       "  0  5   0   0   0   0   0   0   0   0   0   0   0   0   0   0   0   0\n",
       "  0  0  16   0   0   0   0   0   0   0   0   0   0   0   0   0   0   0\n",
       "  0  0   0  19   0   0   0   0   0   0   0   0   0   0   0   0   0   1\n",
       "  0  0   1   0  21   0   0   0   0   0   0   0   0   0   0   0   0   0\n",
       "  0  0   0   0   0  17   1   0   0   0   0   0   0   0   0   0   0   0\n",
       "  0  0   0   0   0   0  21   0   0   0   0   0   0   0   0   0   0   0\n",
       "  0  0   0   0   0   0   0  17   0   0   0   0   0   0   0   0   0   0\n",
       "  0  0   0   0   0   0   0   0  17   0   0   0   0   0   0   0   0   0\n",
       "  0  0   0   0   0   0   0   0   0  16   0   0   0   0   0   0   0   0\n",
       "  0  0   0   0   0   0   0   0   0   0  21   0   0   0   0   0   0   0\n",
       "  0  0   0   0   0   0   0   0   0   0   0  14   0   0   0   0   0   0\n",
       "  0  0   0   0   0   0   0   0   0   0   0   0  18   0   0   0   0   0\n",
       "  0  0   0   0   0   0   0   0   0   0   0   0   0  23   0   0   0   0\n",
       "  0  0   0   0   0   0   0   0   0   0   0   0   0   0  20   0   0   0\n",
       "  0  0   0   0   0   0   0   0   0   0   0   0   0   0   0  14   0   0\n",
       "  0  0   0   0   0   0   0   0   0   0   0   0   0   0   0   0  14   0\n",
       "  0  0   0   1   0   0   0   0   0   0   0   0   0   0   0   0   0  17"
      ]
     },
     "metadata": {},
     "output_type": "display_data"
    },
    {
     "data": {
      "text/plain": [
       "Classes:  [1, 2, 3, 4, 5, 6, 7, 8, 9, 10, 11, 12, 13, 14, 15, 16, 17, 18]\n",
       "Matrix:   \n",
       "Accuracy: 0.9872611464968153\n",
       "Kappa:    0.9864697454459275"
      ]
     },
     "execution_count": 11,
     "metadata": {},
     "output_type": "execute_result"
    }
   ],
   "source": [
    "# VISUALIZE THE TEST CONFUSION MATRIX\n",
    "DecisionTree.confusion_matrix(ytest1_targets, test_predictions)"
   ]
  },
  {
   "cell_type": "markdown",
   "id": "d681a40e-5137-4f07-b005-5677da274748",
   "metadata": {},
   "source": [
    "#### Get probability scores for a prediction"
   ]
  },
  {
   "cell_type": "code",
   "execution_count": 12,
   "id": "fd349af5-f80b-49e9-891e-0f3c925609a8",
   "metadata": {},
   "outputs": [
    {
     "data": {
      "text/plain": [
       "18×2 Matrix{Any}:\n",
       " \"Ab\"      0.0\n",
       " \"Ap\"      0.0\n",
       " \"Aug\"     0.0\n",
       " \"Bt\"      0.0\n",
       " \"Chl\"     0.0\n",
       " \"En\"      0.0\n",
       " \"Hbl\"     0.0\n",
       " \"Kln\"     0.0\n",
       " \"Lab\"     0.0\n",
       " \"Mc\"      0.0\n",
       " \"Mnt\"     0.0\n",
       " \"Ms\"      0.0\n",
       " \"Olig\"    0.0\n",
       " \"Pgt\"     0.0\n",
       " \"Plg\"   100.0\n",
       " \"Spl\"     0.0\n",
       " \"Spn\"     0.0\n",
       " \"Vrm\"     0.0"
      ]
     },
     "execution_count": 12,
     "metadata": {},
     "output_type": "execute_result"
    }
   ],
   "source": [
    "# GET PROBABILITY SCORES FOR A PREDICTION\n",
    "observation = 123; # i.e., the 123rd row in the training features data\n",
    " # The line below will print the possible classes in the lefthand column and the probability of that class in the righthand column\n",
    "[levels(true_classes) apply_forest_proba(model,Xtrain1_features[observation,:],levels(labels)).*100]"
   ]
  }
 ],
 "metadata": {
  "kernelspec": {
   "display_name": "Julia 1.10.2",
   "language": "julia",
   "name": "julia-1.10"
  },
  "language_info": {
   "file_extension": ".jl",
   "mimetype": "application/julia",
   "name": "julia",
   "version": "1.10.2"
  }
 },
 "nbformat": 4,
 "nbformat_minor": 5
}
