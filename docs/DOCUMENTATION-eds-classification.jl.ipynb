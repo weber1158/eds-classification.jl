{
 "cells": [
  {
   "cell_type": "markdown",
   "id": "03279196-135d-447d-ae2c-1d2222a75ef0",
   "metadata": {},
   "source": [
    "# **Documentation**\n",
    "### Julia functions in the `eds-classification` repository\n",
    "Developed by Austin M. Weber, Byrd Polar and Climate Research Center, Columbus, Ohio."
   ]
  },
  {
   "cell_type": "markdown",
   "id": "622a2256-eef8-473c-a812-e8b0c984e97c",
   "metadata": {},
   "source": [
    "---\n",
    "## `donarummo_classification.jl`\n",
    "Mineral sorting scheme by Donarummo et al. (2003)"
   ]
  },
  {
   "cell_type": "markdown",
   "id": "76b75172-ef89-491a-bb31-27f5fa982cb5",
   "metadata": {},
   "source": [
    "**Syntax**\n",
    "```julia; term=true\n",
    "donarummo_classification(data)\n",
    "minerals = donarummo_classification(data)\n",
    "```\n",
    "\n",
    "**Inputs**\n",
    "```julia; term=true\n",
    "data --> Must be a DataFrame of EDS net intensities with a column for the following elements: Na, Mg, Al, Si, K, Ca, and Fe\n",
    "```\n",
    "\n",
    "**Outputs**\n",
    "```julia; term=true\n",
    "minerals --> List of mineral assignments for each row in the input data\n",
    "```\n",
    "\n",
    "**Example**"
   ]
  },
  {
   "cell_type": "code",
   "execution_count": 2,
   "id": "44bdcb94-4447-4024-997e-dea47c905921",
   "metadata": {},
   "outputs": [
    {
     "data": {
      "text/html": [
       "<div><div style = \"float: left;\"><span>5×1 DataFrame</span></div><div style = \"clear: both;\"></div></div><div class = \"data-frame\" style = \"overflow-x: scroll;\"><table class = \"data-frame\" style = \"margin-bottom: 6px;\"><thead><tr class = \"header\"><th class = \"rowNumber\" style = \"font-weight: bold; text-align: right;\">Row</th><th style = \"text-align: left;\">Minerals</th></tr><tr class = \"subheader headerLastRow\"><th class = \"rowNumber\" style = \"font-weight: bold; text-align: right;\"></th><th title = \"String\" style = \"text-align: left;\">String</th></tr></thead><tbody><tr><td class = \"rowNumber\" style = \"font-weight: bold; text-align: right;\">1</td><td style = \"text-align: left;\">U-C1</td></tr><tr><td class = \"rowNumber\" style = \"font-weight: bold; text-align: right;\">2</td><td style = \"text-align: left;\">U-D5</td></tr><tr><td class = \"rowNumber\" style = \"font-weight: bold; text-align: right;\">3</td><td style = \"text-align: left;\">U-E</td></tr><tr><td class = \"rowNumber\" style = \"font-weight: bold; text-align: right;\">4</td><td style = \"text-align: left;\">U-B1</td></tr><tr><td class = \"rowNumber\" style = \"font-weight: bold; text-align: right;\">5</td><td style = \"text-align: left;\">Hbl</td></tr></tbody></table></div>"
      ],
      "text/latex": [
       "\\begin{tabular}{r|c}\n",
       "\t& Minerals\\\\\n",
       "\t\\hline\n",
       "\t& String\\\\\n",
       "\t\\hline\n",
       "\t1 & U-C1 \\\\\n",
       "\t2 & U-D5 \\\\\n",
       "\t3 & U-E \\\\\n",
       "\t4 & U-B1 \\\\\n",
       "\t5 & Hbl \\\\\n",
       "\\end{tabular}\n"
      ],
      "text/plain": [
       "\u001b[1m5×1 DataFrame\u001b[0m\n",
       "\u001b[1m Row \u001b[0m│\u001b[1m Minerals \u001b[0m\n",
       "     │\u001b[90m String   \u001b[0m\n",
       "─────┼──────────\n",
       "   1 │ U-C1\n",
       "   2 │ U-D5\n",
       "   3 │ U-E\n",
       "   4 │ U-B1\n",
       "   5 │ Hbl"
      ]
     },
     "execution_count": 2,
     "metadata": {},
     "output_type": "execute_result"
    }
   ],
   "source": [
    "## Load dependencies\n",
    "using Random,DataFrames\n",
    "include(\"donarummo_classification.jl\"); # Function file must be in the current folder\n",
    "\n",
    "## Synthetic data\n",
    "sz = (1000,1)\n",
    "Na = rand(1:4000, sz)\n",
    "Mg = rand(1:1000, sz)\n",
    "Al = rand(1:12000, sz)\n",
    "Si = rand(1:30000, sz)\n",
    "K = rand(1:2000, sz)\n",
    "Ca = rand(1:4000, sz)\n",
    "Fe = rand(1:6000, sz)\n",
    "elements = hcat(Na, Mg, Al, Si, K, Ca, Fe)\n",
    "element_names = [:Sodium, :Mg, :ALUMinium, :silicon, :K, :Ca, :Fe]\n",
    "data_table = DataFrame(elements, Symbol.(element_names))\n",
    "\n",
    "## Use the Donarummo algorithm to classify the data\n",
    "minerals = donarummo_classification(data_table);\n",
    "first(minerals,5)"
   ]
  },
  {
   "cell_type": "markdown",
   "id": "507fad95-ee35-4012-82bd-ef9b89b38924",
   "metadata": {},
   "source": [
    "**Note** The column names in `data_table` can be either the spelled-out name of the element or the element abbreviation. Capitalization does not matter."
   ]
  },
  {
   "cell_type": "markdown",
   "id": "9e78f23c-fe20-4908-88f0-9fb266831480",
   "metadata": {},
   "source": [
    "**Additional details**\n",
    "The Donarummo algorithm will assign a mineral name or unknown classification to each row in the input table. The full list of possible mineral assignments is given below using abbreviations from Whitney & Evans (2010):\n",
    "\n",
    "Abbreviation | Mineral | Description\n",
    ":-- | :-- | :--\n",
    "Ab | Albite | Na-feldspar\n",
    "An | Anorthite | Ca-feldspar\n",
    "Aug | Augite | Pyroxene family\n",
    "Bt | Biotite | Mica family\n",
    "Chl | Chlorite | Clay mineral\n",
    "Hbl | Hornblende | Amphibole family\n",
    "Htr | Hectorite | Clay mineral\n",
    "Ilt | Illite | Clay mineral\n",
    "Ilt/Sme | Illite/Smectite | 70%/30% clay mixture\n",
    "Kln | Kaolinite | Clay mineral\n",
    "Lab/Byt | Labradorite/Bytownite | Ca>Na-feldspar\n",
    "Mnt | Montmorillonite | Clay mineral\n",
    "Ms | Muscovite | Mica family & clay mineral\n",
    "Olig/Ans | Oligoclase/Andesine | Na>Ca-feldspar\n",
    "Afs | Orthoclase | Alkali \"K\"-feldspar\n",
    "Vrm | Vermiculite | Clay mineral\n",
    "U-## | Unknown | Different \"unknown\" mineral branches\n"
   ]
  },
  {
   "cell_type": "markdown",
   "id": "868cf7eb-bb2f-4aec-ac4c-02216b638aad",
   "metadata": {},
   "source": [
    "**References**\n",
    "```tex; term=true\n",
    "Donarummo et al. (2003). Geophyiscal Research Letters 30(6), 1269. https://doi.org/10.1029/2002GL016641\n",
    "\n",
    "Whitney, D. L., & Evans, B. W. (2010). Abbreviations for names of  rock-forming minerals. American Mineralogist, 95(1), 185–187   https://doi.org/10.2138/am.2010.3371 \n",
    "```"
   ]
  },
  {
   "cell_type": "markdown",
   "id": "235bdf30-bde4-4194-add3-ab895113b077",
   "metadata": {},
   "source": [
    "---\n",
    "## `kandler_classification.jl`\n",
    "Mineral identification algorithm by Kandler et al. (2011)"
   ]
  },
  {
   "cell_type": "markdown",
   "id": "14350245-3129-482c-91b6-a95a24638469",
   "metadata": {},
   "source": [
    "**Syntax**\n",
    "```julia; term=true\n",
    "kandler_classification(data)\n",
    "classes = kandler_classification(data)\n",
    "```\n",
    "\n",
    "**Inputs**\n",
    "```julia; term=true\n",
    "data --> Must be a DataFrame of EDS net intensities with a column for the following elements: Na, Mg, Al, Si, P, S, Cl, K, Ca, Ti, Cr, Mn, and Fe\n",
    "```\n",
    "\n",
    "**Outputs**\n",
    "```julia; term=true\n",
    "classes --> List of mineral classes for each row in the input data\n",
    "```\n",
    "\n",
    "**Example**"
   ]
  },
  {
   "cell_type": "code",
   "execution_count": 2,
   "id": "49a5a07f-23da-4f36-8c52-4ce2baf1e7b1",
   "metadata": {},
   "outputs": [
    {
     "data": {
      "text/html": [
       "<div><div style = \"float: left;\"><span>5×1 DataFrame</span></div><div style = \"clear: both;\"></div></div><div class = \"data-frame\" style = \"overflow-x: scroll;\"><table class = \"data-frame\" style = \"margin-bottom: 6px;\"><thead><tr class = \"header\"><th class = \"rowNumber\" style = \"font-weight: bold; text-align: right;\">Row</th><th style = \"text-align: left;\">Minerals</th></tr><tr class = \"subheader headerLastRow\"><th class = \"rowNumber\" style = \"font-weight: bold; text-align: right;\"></th><th title = \"String\" style = \"text-align: left;\">String</th></tr></thead><tbody><tr><td class = \"rowNumber\" style = \"font-weight: bold; text-align: right;\">1</td><td style = \"text-align: left;\">SiAlNaCa</td></tr><tr><td class = \"rowNumber\" style = \"font-weight: bold; text-align: right;\">2</td><td style = \"text-align: left;\">other Si-dominated</td></tr><tr><td class = \"rowNumber\" style = \"font-weight: bold; text-align: right;\">3</td><td style = \"text-align: left;\">mixtures Ca+SiAl</td></tr><tr><td class = \"rowNumber\" style = \"font-weight: bold; text-align: right;\">4</td><td style = \"text-align: left;\">other Si-dominated</td></tr><tr><td class = \"rowNumber\" style = \"font-weight: bold; text-align: right;\">5</td><td style = \"text-align: left;\">other Si-dominated</td></tr></tbody></table></div>"
      ],
      "text/latex": [
       "\\begin{tabular}{r|c}\n",
       "\t& Minerals\\\\\n",
       "\t\\hline\n",
       "\t& String\\\\\n",
       "\t\\hline\n",
       "\t1 & SiAlNaCa \\\\\n",
       "\t2 & other Si-dominated \\\\\n",
       "\t3 & mixtures Ca+SiAl \\\\\n",
       "\t4 & other Si-dominated \\\\\n",
       "\t5 & other Si-dominated \\\\\n",
       "\\end{tabular}\n"
      ],
      "text/plain": [
       "\u001b[1m5×1 DataFrame\u001b[0m\n",
       "\u001b[1m Row \u001b[0m│\u001b[1m Minerals           \u001b[0m\n",
       "     │\u001b[90m String             \u001b[0m\n",
       "─────┼────────────────────\n",
       "   1 │ SiAlNaCa\n",
       "   2 │ other Si-dominated\n",
       "   3 │ mixtures Ca+SiAl\n",
       "   4 │ other Si-dominated\n",
       "   5 │ other Si-dominated"
      ]
     },
     "execution_count": 2,
     "metadata": {},
     "output_type": "execute_result"
    }
   ],
   "source": [
    "## Load dependencies\n",
    "using Random, DataFrames\n",
    "include(\"kandler_classification.jl\"); # Function file must be in the current folder\n",
    "\n",
    "## Synthetic data\n",
    "sz = (1000,1);\n",
    "Na = rand(0:20, sz); Mg = rand(0:20, sz); Al = rand(10:70, sz); Si = rand(10:90, sz); \n",
    "P  = rand(0:1, sz); S  = rand(0:10, sz); Cl = rand(0:1, sz); K = rand(0:20, sz); Ca = rand(0:20, sz); \n",
    "Ti = rand(0:20, sz); Cr = rand(0:0.5, sz); Mn = rand(0:0.5, sz); Fe = rand(0:20, sz)\n",
    "elements = hcat(Na, Mg, Al, Si, P, S, Cl, K, Ca, Ti, Cr, Mn, Fe)\n",
    "element_names = [:Sodium, :Mg, :ALUMinium, :silicon, :P, :S, :Cl, :K, :Ca, :Ti, :Cr, :Mn, :Fe]\n",
    "kandler_data_table = DataFrame(elements, Symbol.(element_names))\n",
    "# Normalize each row to add to 100\n",
    "function normalize_to_100!(df::DataFrame)\n",
    " data = Matrix(df)\n",
    " row_sums = sum(data, dims=2)\n",
    " normalization_factors = 100 ./ row_sums\n",
    " df .= data .* normalization_factors\n",
    " return df\n",
    "end\n",
    "kandler_data_table = normalize_to_100!(kandler_data_table)\n",
    "\n",
    "## Use the Kandler algorithm to classify the data\n",
    "classes = kandler_classification(kandler_data_table);\n",
    "first(classes,5)"
   ]
  },
  {
   "cell_type": "markdown",
   "id": "e6ce9dc7-4e9a-4265-b6c1-3d00e97a8396",
   "metadata": {},
   "source": [
    "**Note** The column names in `data_table` can be either the spelled-out name of the element or the element abbreviation. Capitalization does not matter."
   ]
  },
  {
   "cell_type": "markdown",
   "id": "c27f965a-89d6-441f-a707-cc6e9276beae",
   "metadata": {},
   "source": [
    "**Additional details**\n",
    "The Kandler algorithm will assign a mineral class to each row in the input table. The full list of possible mineral assignments is given below:\n",
    "\n",
    "Number | Class | Description\n",
    ":-- | :-- | :-- \n",
    "01 | biological | Biological (carbonaceous) material\n",
    "02 | Na-rich | Na-rich mineral \n",
    "03 | ammonium sulfate | NH<sub>4</sub>SO<sub>4</sub> \n",
    "04 | Na sulfate | Na<sub>2</sub>SO<sub>4</sub> \n",
    "05 | Ca Na sulfate | (Na,Ca)<sub>2</sub>SO<sub>4</sub>\n",
    "06 | Ca sulfate | CaSO<sub>4</sub>\n",
    "07 | Other sulfate | Other sulfate mineral \n",
    "08 | Ca carbonate | CaCO<sub>3</sub> \n",
    "09 | Ca Mg carbonate | CaMg(CO<sub>3</sub>)<sub>2</sub> \n",
    "10 | phosphate | Phosphate mineral\n",
    "11 | Na chloride | NaCl \n",
    "12 | K chloride | KCl \n",
    "13 | other chloride | Other chloride mineral \n",
    "14 | Fe oxide | Fe oxide mineral \n",
    "15 | Ti oxide | Ti oxide mineral \n",
    "16 | Fe Ti oxide | Fe+Ti oxide mineral \n",
    "17 | Al oxide | Aluminum oxide mineral\n",
    "18 | quartz | SiO<sub>2</sub>\n",
    "19 | SiAl | Aluminosilicate \n",
    "20 | SiAlK | K-bearing aluminosilicate \n",
    "21 | SiAlNa | Na-bearing aluminosilicate\n",
    "22 | SiAlNaCa | Na- and Ca-bearing aluminosilicate\n",
    "23 | SiAlNaK | Na- and K-bearing aluminosilicate\n",
    "24 | SiAlCaFeMg | Ca-, Fe-, and Mg-bearing aluminosilicate\n",
    "25 | SiAlKFeMg | K-, Fe-, and Mg-bearing aluminosilicate\n",
    "26 | SiAlFeMg | Fe- and Mg-bearing aluminosilicate\n",
    "27 | SiMgFe | Mg- and Fe-bearing silicate\n",
    "28 | SiMg | Magnesiosilicate\n",
    "29 | SiCaTi | Ca- and Ti-bearing silicate\n",
    "30 | mixtures Si+S | Silicate and sulfate mixture\n",
    "31 | mixtures SiAl+S | Aluminosilicate and sulfate mixture\n",
    "32 | mixtures Cl+S | Chloride and sulfate mixture\n",
    "33 | mixtures NaCl+SiAl | Sodium chloride and aluminosilicate mixture\n",
    "34 | mixtures Ca+Si | Calcareous silicate mixture\n",
    "35 | mixtures Ca+SiAl | Calcareous aluminosilicate mixture\n",
    "36 | other Si-dominated | Other silica-dominated mixture\n",
    "37 | steel | Steel\n",
    "38 | other Mg-dominated | Other magnesium-dominated mineral\n",
    "39 | other K-dominated | Other potassium-dominated mineral\n",
    "40 | other Ca-dominated | Other calcium-dominated mineral"
   ]
  },
  {
   "cell_type": "markdown",
   "id": "23814ac4-c62d-4e3c-8165-31cdc9609b91",
   "metadata": {},
   "source": [
    "**References**\n",
    "```tex; term=true\n",
    "Kandler et al. (2011). Tellus B 63(4), 475–496. https://doi.org/10.1111/j.1600-0889.2011.00550.x\n",
    "```"
   ]
  },
  {
   "cell_type": "markdown",
   "id": "9666e8f2-7efd-4b2c-b6cb-7fcd38f9c38c",
   "metadata": {},
   "source": [
    "---\n",
    "## `panta_classification.jl`\n",
    "Mineral identification algorithm by Panta et al. (2023)"
   ]
  },
  {
   "cell_type": "markdown",
   "id": "949b7714-30a0-427e-94f0-fb62a3cacf82",
   "metadata": {},
   "source": [
    "**Syntax**\n",
    "```julia; term=true\n",
    "panta_classification(data)\n",
    "mineral = panta_classification(data)\n",
    "```\n",
    "\n",
    "**Inputs**\n",
    "```julia; term=true\n",
    "data --> Must be a DataFrame of EDS net intensities with a column for the following elements: F, Na, Mg, Al, Si, P, S, Cl, K, Ca, Ti, Cr, Mn, and Fe\n",
    "```\n",
    "\n",
    "**Outputs**\n",
    "```julia; term=true\n",
    "mineral --> List of mineral assignments for each row in the input data\n",
    "```\n",
    "\n",
    "**Example**"
   ]
  },
  {
   "cell_type": "code",
   "execution_count": 15,
   "id": "a71744aa-7f6d-48dc-9c9e-ec6554808214",
   "metadata": {},
   "outputs": [
    {
     "data": {
      "text/html": [
       "<div><div style = \"float: left;\"><span>5×1 DataFrame</span></div><div style = \"clear: both;\"></div></div><div class = \"data-frame\" style = \"overflow-x: scroll;\"><table class = \"data-frame\" style = \"margin-bottom: 6px;\"><thead><tr class = \"header\"><th class = \"rowNumber\" style = \"font-weight: bold; text-align: right;\">Row</th><th style = \"text-align: left;\">Minerals</th></tr><tr class = \"subheader headerLastRow\"><th class = \"rowNumber\" style = \"font-weight: bold; text-align: right;\"></th><th title = \"String\" style = \"text-align: left;\">String</th></tr></thead><tbody><tr><td class = \"rowNumber\" style = \"font-weight: bold; text-align: right;\">1</td><td style = \"text-align: left;\">Illite-like</td></tr><tr><td class = \"rowNumber\" style = \"font-weight: bold; text-align: right;\">2</td><td style = \"text-align: left;\">Kaolinite-like</td></tr><tr><td class = \"rowNumber\" style = \"font-weight: bold; text-align: right;\">3</td><td style = \"text-align: left;\">Unknown</td></tr><tr><td class = \"rowNumber\" style = \"font-weight: bold; text-align: right;\">4</td><td style = \"text-align: left;\">Kaolinite-like</td></tr><tr><td class = \"rowNumber\" style = \"font-weight: bold; text-align: right;\">5</td><td style = \"text-align: left;\">Unknown</td></tr></tbody></table></div>"
      ],
      "text/latex": [
       "\\begin{tabular}{r|c}\n",
       "\t& Minerals\\\\\n",
       "\t\\hline\n",
       "\t& String\\\\\n",
       "\t\\hline\n",
       "\t1 & Illite-like \\\\\n",
       "\t2 & Kaolinite-like \\\\\n",
       "\t3 & Unknown \\\\\n",
       "\t4 & Kaolinite-like \\\\\n",
       "\t5 & Unknown \\\\\n",
       "\\end{tabular}\n"
      ],
      "text/plain": [
       "\u001b[1m5×1 DataFrame\u001b[0m\n",
       "\u001b[1m Row \u001b[0m│\u001b[1m Minerals       \u001b[0m\n",
       "     │\u001b[90m String         \u001b[0m\n",
       "─────┼────────────────\n",
       "   1 │ Illite-like\n",
       "   2 │ Kaolinite-like\n",
       "   3 │ Unknown\n",
       "   4 │ Kaolinite-like\n",
       "   5 │ Unknown"
      ]
     },
     "execution_count": 15,
     "metadata": {},
     "output_type": "execute_result"
    }
   ],
   "source": [
    "## Load dependencies\n",
    "using Random, DataFrames\n",
    "include(\"panta_classification.jl\"); # Function file must be in the current folder\n",
    "\n",
    "## Synthetic data\n",
    "rng = Random.Xoshiro(56)\n",
    "sz = (1000,1);\n",
    "F = rand(rng, 0:0.5, sz); Na = rand(rng, 0:20, sz); Mg = rand(rng, 0:20, sz); Al = rand(rng, 10:70, sz); Si = rand(rng, 10:90, sz); \n",
    "P  = rand(rng, 0:1, sz); S  = rand(rng, 0:10, sz); Cl = rand(rng, 0:1, sz); K = rand(rng, 0:20, sz); Ca = rand(rng, 0:20, sz); \n",
    "Ti = rand(rng, 0:20, sz); Cr = rand(rng, 0:0.5, sz); Mn = rand(rng, 0:0.5, sz); Fe = rand(rng, 0:20, sz)\n",
    "elements = hcat(F,Na, Mg, Al, Si, P, S, Cl, K, Ca, Ti, Cr, Mn, Fe)\n",
    "element_names = [:F, :Sodium, :Mg, :ALUMinium, :silicon, :P, :S, :Cl, :K, :Ca, :Ti, :Cr, :Mn, :Fe]\n",
    "panta_data_table = DataFrame(elements, Symbol.(element_names));\n",
    "# Normalize rows to add up to 100\n",
    "panta_data_table = normalize_to_100!(panta_data_table);\n",
    "\n",
    "## Use the Panta algorithm to classify the data\n",
    "panta_minerals = panta_classification(panta_data_table);\n",
    "first(panta_minerals,5)"
   ]
  },
  {
   "cell_type": "markdown",
   "id": "18c640a2-e297-447b-96e6-68a4c536e7b3",
   "metadata": {},
   "source": [
    "**Note** The column names in `data_table` can be either the spelled-out name of the element or the element abbreviation. Capitalization does not matter. Also, in this case, because the data was completely synthetic, some of the classifications are assigned \"Unknown\". This will happen if none of the values can fit properly within the constraints of the mineral compositional ranges."
   ]
  },
  {
   "cell_type": "markdown",
   "id": "e188775e-a102-4e66-9745-12851087cf9d",
   "metadata": {},
   "source": [
    "**Additional details**\n",
    "The Panta algorithm will assign a mineral name to each row in the input table. The full list of possible mineral assignments is given below:\n",
    "\n",
    "Number | Mineral \n",
    ":-- | :-- \n",
    "01 | Albite-like\n",
    "02 | Alunite-like\n",
    "03 | Apatite-like\n",
    "04 | Calcite-like\n",
    "05 | Chlorite-like\n",
    "06 | Dolomite-like\n",
    "07 | Feldspar-like\n",
    "08 | Gypsum-like\n",
    "09 | Halite-like\n",
    "10 | Hematite-like\n",
    "11 | Ilmenite-like\n",
    "12 | Illite-like\n",
    "13 | Kaolinite-like\n",
    "14 | Mica-like\n",
    "15 | Microcline-like\n",
    "16 | Quartz-like\n",
    "17 | Rutile-like\n",
    "18 | Smectite-like\n",
    "19 | Ca-rich silicate/Ca-Si-mix\n",
    "20 | Complex clay\n",
    "21 | Complex feldspar\n",
    "22 | Complex quartz\n",
    "23 | Complex sulfate\n"
   ]
  },
  {
   "cell_type": "markdown",
   "id": "aaa23eb4-fb62-4126-917c-50789a6d82cd",
   "metadata": {},
   "source": [
    "**References**\n",
    "```tex; term=true\n",
    "Panta et al. (2023). Atmospheric Chemistry and Physics 23, 3861-3885. https://doi.org/10.5194/acp-23-3861-2023\n",
    "\n",
    "```"
   ]
  }
 ],
 "metadata": {
  "kernelspec": {
   "display_name": "Julia 1.10.2",
   "language": "julia",
   "name": "julia-1.10"
  },
  "language_info": {
   "file_extension": ".jl",
   "mimetype": "application/julia",
   "name": "julia",
   "version": "1.10.2"
  }
 },
 "nbformat": 4,
 "nbformat_minor": 5
}
